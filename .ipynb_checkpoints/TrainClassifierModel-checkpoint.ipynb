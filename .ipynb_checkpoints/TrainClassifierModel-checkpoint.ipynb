{
 "cells": [
  {
   "cell_type": "code",
   "execution_count": 2,
   "id": "1eb5cd0a",
   "metadata": {},
   "outputs": [],
   "source": [
    "import numpy as np\n",
    "import pandas as pd\n",
    "from fastai.text.all import *\n",
    "import torch"
   ]
  },
  {
   "cell_type": "code",
   "execution_count": 6,
   "id": "751b4e8b",
   "metadata": {},
   "outputs": [],
   "source": [
    "# Read the classifier data\n",
    "fastai_text_classifier_data = torch.load(r\"..\\classifier_data.pkl\")"
   ]
  },
  {
   "cell_type": "code",
   "execution_count": 7,
   "id": "1cdf2c09",
   "metadata": {},
   "outputs": [],
   "source": [
    "# Set the batch size to 16 \n",
    "fastai_text_classifier_data.bs = 16"
   ]
  },
  {
   "cell_type": "code",
   "execution_count": 8,
   "id": "36373c57",
   "metadata": {},
   "outputs": [
    {
     "data": {
      "text/html": [
       "<table border=\"1\" class=\"dataframe\">\n",
       "  <thead>\n",
       "    <tr style=\"text-align: right;\">\n",
       "      <th></th>\n",
       "      <th>text</th>\n",
       "      <th>category</th>\n",
       "    </tr>\n",
       "  </thead>\n",
       "  <tbody>\n",
       "    <tr>\n",
       "      <th>0</th>\n",
       "      <td>xxbos xxrep 5 ? ? ? xxrep 7 ? ? ? xxrep 7 ? xxrep 4 ? xxrep 4 ? xxrep 11 ? ? ? xxrep 6 ? xxrep 4 ? , xxrep 3 ? xxrep 3 ? ? ? xxrep 3 ? xxrep 4 ? xxrep 3 ? ? ? ? ? xxrep 4 ? ? ? xxrep 3 ? , xxrep 4 ? ? ? ? ? xxrep 6 ? xxrep 3 ? xxrep 3 ? xxrep 3 ? ? ? xxrep 3 ? \\r\\r\\n▁ xxrep 5 ? xxrep 6 ? ? ? xxrep 3 ? xxrep 4 ? xxrep 4 ? ? ? xxrep 4 ? xxrep 6 ? xxrep 4 ? xxrep 8 ? ? ? xxrep 6 ? ? ? xxrep 5 ? ? ? xxrep 3 ? xxrep 4 ? ? ? xxrep 7 ? xxrep 5 ? - xxrep 8 ? xxrep 5</td>\n",
       "      <td>Neutral</td>\n",
       "    </tr>\n",
       "    <tr>\n",
       "      <th>1</th>\n",
       "      <td>xxbos ? xxrep 4 ? xxrep 5 ? xxrep 4 ? xxrep 3 ? xxrep 6 ? xxrep 3 ? xxrep 3 ? \\r\\r\\n\\r\\r\\n ? xxrep 5 ? xxrep 5 ? xxrep 6 ? ? ? ? xxrep 7 ? ? ? xxrep 4 ? ? ? ? xxrep 7 ? xxrep 4 ? xxrep 4 ? xxrep 3 ? xxrep 6 ? xxrep 5 ? xxrep 8 ? xxrep 4 ? xxrep 6 ? xxrep 5 ? ? xxrep 8 ? xxrep 7 ? xxrep 3 ? ? xxrep 4 ? ? xxrep 3 ? xxrep 3 ? ? ? xxrep 3 ? ? ? ? ? xxrep 4 ? ? xxrep 3 ? ? xxrep 4 ? xxrep 5 ? xxrep 4 ? xxrep 3 ? xxrep 6 ? xxrep 3 ? xxrep 3 ? . https : / / t.co / xxunk</td>\n",
       "      <td>Neutral</td>\n",
       "    </tr>\n",
       "    <tr>\n",
       "      <th>2</th>\n",
       "      <td>xxbos xxrep 5 ? ? xxrep 5 ? ? ? xxrep 5 ? : xxrep 11 ? xxrep 3 ? ? ? xxrep 8 ? . ? xxrep 7 ? , xxrep 3 ? ? xxrep 5 ? xxrep 4 ? xxrep 4 ? xxrep 5 ? xxrep 14 ? - xxrep 3 ? - ? ? ? ? $ 50 ? ? 60 . xxrep 6 ? xxrep 3 ? xxrep 9 ? xxrep 6 ? xxrep 8 ? xxrep 8 ? , xxrep 3 ? xxrep 5 ? xxrep 8 ? xxrep 3 ? xxrep 10 ? xxrep 6 ? . ? xxrep 3 ? , xxrep 7 ? , xxrep 4 ? xxrep 8 ? ? xxrep 5 ? - ? ? xxrep 5 ? xxrep 12 ? https : / / t.co / xxunk</td>\n",
       "      <td>Neutral</td>\n",
       "    </tr>\n",
       "  </tbody>\n",
       "</table>"
      ],
      "text/plain": [
       "<IPython.core.display.HTML object>"
      ]
     },
     "metadata": {},
     "output_type": "display_data"
    }
   ],
   "source": [
    "fastai_text_classifier_data.show_batch(max_n=3)"
   ]
  },
  {
   "cell_type": "code",
   "execution_count": 12,
   "id": "0fb4d54c",
   "metadata": {},
   "outputs": [],
   "source": [
    "# Premare the model\n",
    "learner = text_classifier_learner(fastai_text_classifier_data, AWD_LSTM, metrics=accuracy, drop_mult=1.0)"
   ]
  },
  {
   "cell_type": "code",
   "execution_count": 15,
   "id": "31c601fe",
   "metadata": {},
   "outputs": [
    {
     "data": {
      "text/plain": [
       "<fastai.text.learner.TextLearner at 0x1a64a953550>"
      ]
     },
     "execution_count": 15,
     "metadata": {},
     "output_type": "execute_result"
    }
   ],
   "source": [
    "# Load the encoders\n",
    "learner.load_encoder(r\"E:\\Work\\Data_Science\\Projects\\Text_Classification_FastAI_V2\\model\\enc\")"
   ]
  },
  {
   "cell_type": "code",
   "execution_count": 16,
   "id": "b58d09c7",
   "metadata": {},
   "outputs": [
    {
     "data": {
      "text/html": [
       "\n",
       "<style>\n",
       "    /* Turns off some styling */\n",
       "    progress {\n",
       "        /* gets rid of default border in Firefox and Opera. */\n",
       "        border: none;\n",
       "        /* Needs to be in here for Safari polyfill so background images work as expected. */\n",
       "        background-size: auto;\n",
       "    }\n",
       "    progress:not([value]), progress:not([value])::-webkit-progress-bar {\n",
       "        background: repeating-linear-gradient(45deg, #7e7e7e, #7e7e7e 10px, #5c5c5c 10px, #5c5c5c 20px);\n",
       "    }\n",
       "    .progress-bar-interrupted, .progress-bar-interrupted::-webkit-progress-bar {\n",
       "        background: #F44336;\n",
       "    }\n",
       "</style>\n"
      ],
      "text/plain": [
       "<IPython.core.display.HTML object>"
      ]
     },
     "metadata": {},
     "output_type": "display_data"
    },
    {
     "data": {
      "text/html": [],
      "text/plain": [
       "<IPython.core.display.HTML object>"
      ]
     },
     "metadata": {},
     "output_type": "display_data"
    },
    {
     "data": {
      "text/plain": [
       "SuggestedLRs(valley=0.007585775572806597)"
      ]
     },
     "execution_count": 16,
     "metadata": {},
     "output_type": "execute_result"
    },
    {
     "data": {
      "image/png": "[encoded data removed]",
      "text/plain": [
       "<Figure size 432x288 with 1 Axes>"
      ]
     },
     "metadata": {
      "needs_background": "light"
     },
     "output_type": "display_data"
    }
   ],
   "source": [
    "# Finding the best learning rate\n",
    "learner.lr_find()"
   ]
  },
  {
   "cell_type": "code",
   "execution_count": null,
   "id": "d6793c30",
   "metadata": {},
   "outputs": [],
   "source": []
  }
 ],
 "metadata": {
  "kernelspec": {
   "display_name": "Python 3 (ipykernel)",
   "language": "python",
   "name": "python3"
  },
  "language_info": {
   "codemirror_mode": {
    "name": "ipython",
    "version": 3
   },
   "file_extension": ".py",
   "mimetype": "text/x-python",
   "name": "python",
   "nbconvert_exporter": "python",
   "pygments_lexer": "ipython3",
   "version": "3.8.13"
  }
 },
 "nbformat": 4,
 "nbformat_minor": 5
}
