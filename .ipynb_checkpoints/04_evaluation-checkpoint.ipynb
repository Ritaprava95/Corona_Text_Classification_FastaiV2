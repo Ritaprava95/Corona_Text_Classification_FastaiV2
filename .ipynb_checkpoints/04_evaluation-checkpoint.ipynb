{
 "cells": [
  {
   "cell_type": "markdown",
   "id": "c49c4dc6",
   "metadata": {},
   "source": [
    "## Model evaluation"
   ]
  },
  {
   "cell_type": "code",
   "execution_count": 40,
   "id": "115e35c3",
   "metadata": {},
   "outputs": [],
   "source": [
    "import numpy as np\n",
    "import pandas as pd\n",
    "from fastai.text.all import *\n",
    "import torch\n",
    "from sklearn.metrics import confusion_matrix, precision_score, recall_score, f1_score"
   ]
  },
  {
   "cell_type": "code",
   "execution_count": 8,
   "id": "45e22173",
   "metadata": {},
   "outputs": [],
   "source": [
    "# load the model\n",
    "learner = load_learner(r\"..\\model\\classifier_model.pkl\", cpu=False)"
   ]
  },
  {
   "cell_type": "code",
   "execution_count": 4,
   "id": "cae143eb",
   "metadata": {},
   "outputs": [],
   "source": [
    "# Read the classifier data\n",
    "fastai_text_classifier_data = torch.load(r\"..\\classifier_data.pkl\")"
   ]
  },
  {
   "cell_type": "code",
   "execution_count": 10,
   "id": "14efc7e3",
   "metadata": {},
   "outputs": [
    {
     "data": {
      "text/plain": [
       "['Extremely Negative', 'Extremely Positive', 'Negative', 'Neutral', 'Positive']"
      ]
     },
     "execution_count": 10,
     "metadata": {},
     "output_type": "execute_result"
    }
   ],
   "source": [
    "# To know which class is in which order\n",
    "# probailities returned for each prediction will be in the same order \n",
    "fastai_text_classifier_data.categorize.vocab"
   ]
  },
  {
   "cell_type": "markdown",
   "id": "e989f063",
   "metadata": {},
   "source": [
    "### Training data"
   ]
  },
  {
   "cell_type": "code",
   "execution_count": 5,
   "id": "e207139f",
   "metadata": {},
   "outputs": [],
   "source": [
    "# Read csv data\n",
    "train = pd.read_csv(r\"../archive/Corona_NLP_train.csv\", encoding='latin-1')"
   ]
  },
  {
   "cell_type": "code",
   "execution_count": 6,
   "id": "bb0fdc66",
   "metadata": {},
   "outputs": [
    {
     "data": {
      "text/plain": [
       "Index(['UserName', 'ScreenName', 'Location', 'TweetAt', 'OriginalTweet',\n",
       "       'Sentiment'],\n",
       "      dtype='object')"
      ]
     },
     "execution_count": 6,
     "metadata": {},
     "output_type": "execute_result"
    }
   ],
   "source": [
    "train.columns"
   ]
  },
  {
   "cell_type": "code",
   "execution_count": 15,
   "id": "1a986c6f",
   "metadata": {},
   "outputs": [
    {
     "name": "stdout",
     "output_type": "stream",
     "text": [
      "advice Talk to your neighbours family to exchange phone numbers create contact list with phone numbers of neighbours schools employer chemist GP set up online shopping accounts if poss adequate supplies of regular meds but not over order\n"
     ]
    },
    {
     "data": {
      "text/html": [
       "\n",
       "<style>\n",
       "    /* Turns off some styling */\n",
       "    progress {\n",
       "        /* gets rid of default border in Firefox and Opera. */\n",
       "        border: none;\n",
       "        /* Needs to be in here for Safari polyfill so background images work as expected. */\n",
       "        background-size: auto;\n",
       "    }\n",
       "    progress:not([value]), progress:not([value])::-webkit-progress-bar {\n",
       "        background: repeating-linear-gradient(45deg, #7e7e7e, #7e7e7e 10px, #5c5c5c 10px, #5c5c5c 20px);\n",
       "    }\n",
       "    .progress-bar-interrupted, .progress-bar-interrupted::-webkit-progress-bar {\n",
       "        background: #F44336;\n",
       "    }\n",
       "</style>\n"
      ],
      "text/plain": [
       "<IPython.core.display.HTML object>"
      ]
     },
     "metadata": {},
     "output_type": "display_data"
    },
    {
     "data": {
      "text/html": [],
      "text/plain": [
       "<IPython.core.display.HTML object>"
      ]
     },
     "metadata": {},
     "output_type": "display_data"
    },
    {
     "name": "stdout",
     "output_type": "stream",
     "text": [
      "('Positive', tensor(4), tensor([0.0077, 0.1782, 0.1028, 0.2581, 0.4532]))\n"
     ]
    }
   ],
   "source": [
    "# predict class for a text\n",
    "print(train['OriginalTweet'][1])\n",
    "train_pred_class = learner.predict(train['OriginalTweet'][1])\n",
    "print(train_pred_class)"
   ]
  },
  {
   "cell_type": "code",
   "execution_count": 26,
   "id": "cee56f0a",
   "metadata": {},
   "outputs": [
    {
     "data": {
      "text/html": [
       "\n",
       "<style>\n",
       "    /* Turns off some styling */\n",
       "    progress {\n",
       "        /* gets rid of default border in Firefox and Opera. */\n",
       "        border: none;\n",
       "        /* Needs to be in here for Safari polyfill so background images work as expected. */\n",
       "        background-size: auto;\n",
       "    }\n",
       "    progress:not([value]), progress:not([value])::-webkit-progress-bar {\n",
       "        background: repeating-linear-gradient(45deg, #7e7e7e, #7e7e7e 10px, #5c5c5c 10px, #5c5c5c 20px);\n",
       "    }\n",
       "    .progress-bar-interrupted, .progress-bar-interrupted::-webkit-progress-bar {\n",
       "        background: #F44336;\n",
       "    }\n",
       "</style>\n"
      ],
      "text/plain": [
       "<IPython.core.display.HTML object>"
      ]
     },
     "metadata": {},
     "output_type": "display_data"
    },
    {
     "data": {
      "text/html": [],
      "text/plain": [
       "<IPython.core.display.HTML object>"
      ]
     },
     "metadata": {},
     "output_type": "display_data"
    }
   ],
   "source": [
    "# Predict probabilities for training data\n",
    "train_dl = learner.dls.test_dl(train['OriginalTweet']) # instead of feeding a series of text i.e train['OriginalTweet'], we can also feed a single text like learner.dls.test_dl(\"this is such a nice day\")\n",
    "train_pred_proba = learner.get_preds(dl=train_dl)"
   ]
  },
  {
   "cell_type": "code",
   "execution_count": 27,
   "id": "b33e8e5c",
   "metadata": {},
   "outputs": [
    {
     "data": {
      "text/plain": [
       "(tensor([[0.0037, 0.0053, 0.0265, 0.9197, 0.0448],\n",
       "         [0.0077, 0.1782, 0.1028, 0.2581, 0.4532],\n",
       "         [0.0010, 0.2235, 0.0425, 0.0481, 0.6850],\n",
       "         ...,\n",
       "         [0.0199, 0.3096, 0.1744, 0.0234, 0.4727],\n",
       "         [0.0219, 0.3463, 0.1588, 0.0264, 0.4466],\n",
       "         [0.0675, 0.1622, 0.2838, 0.0610, 0.4255]]),\n",
       " None)"
      ]
     },
     "execution_count": 27,
     "metadata": {},
     "output_type": "execute_result"
    }
   ],
   "source": [
    "train_pred_proba"
   ]
  },
  {
   "cell_type": "markdown",
   "id": "6187af74",
   "metadata": {},
   "source": [
    "N.B.:- Instead of using the learner.predict we can also use the probalities to prectct the class, this is usually a more sophisticated idea when we manually want to set different probability threshold for diffrent class. In this case I am not manually setting threshold, so I will use argmax to get the index of the highest probability and get the class using fastai_text_classifier_data.categorize.vocab[index]"
   ]
  },
  {
   "cell_type": "code",
   "execution_count": 36,
   "id": "eb17fb10",
   "metadata": {},
   "outputs": [
    {
     "data": {
      "text/plain": [
       "['Neutral',\n",
       " 'Positive',\n",
       " 'Positive',\n",
       " 'Positive',\n",
       " 'Extremely Negative',\n",
       " 'Positive',\n",
       " 'Neutral',\n",
       " 'Neutral',\n",
       " 'Positive',\n",
       " 'Negative']"
      ]
     },
     "execution_count": 36,
     "metadata": {},
     "output_type": "execute_result"
    }
   ],
   "source": [
    "train_pred_classes = np.argmax(train_pred_proba[0], axis=1)\n",
    "train_pred_classes = [fastai_text_classifier_data.categorize.vocab[index] for index in train_pred_classes]\n",
    "train_pred_classes[:10]"
   ]
  },
  {
   "cell_type": "markdown",
   "id": "9096bb22",
   "metadata": {},
   "source": [
    "#### training evaluation"
   ]
  },
  {
   "cell_type": "code",
   "execution_count": 44,
   "id": "efb3aeff",
   "metadata": {},
   "outputs": [
    {
     "name": "stdout",
     "output_type": "stream",
     "text": [
      "precission: 0.605902180993759\n",
      "reacall: 0.6062152246276453\n",
      "f1_score: 0.6054566854753315\n"
     ]
    }
   ],
   "source": [
    "# precision, recall, f1_score\n",
    "print(f\"precission: {precision_score(train['Sentiment'], train_pred_classes, average='weighted')}\")\n",
    "print(f\"reacall: {recall_score(train['Sentiment'], train_pred_classes, average='weighted')}\")\n",
    "print(f\"f1_score: {f1_score(train['Sentiment'], train_pred_classes, average='weighted')}\")"
   ]
  },
  {
   "cell_type": "code",
   "execution_count": null,
   "id": "83138a12",
   "metadata": {},
   "outputs": [],
   "source": []
  }
 ],
 "metadata": {
  "kernelspec": {
   "display_name": "Python 3 (ipykernel)",
   "language": "python",
   "name": "python3"
  },
  "language_info": {
   "codemirror_mode": {
    "name": "ipython",
    "version": 3
   },
   "file_extension": ".py",
   "mimetype": "text/x-python",
   "name": "python",
   "nbconvert_exporter": "python",
   "pygments_lexer": "ipython3",
   "version": "3.8.13"
  }
 },
 "nbformat": 4,
 "nbformat_minor": 5
}
