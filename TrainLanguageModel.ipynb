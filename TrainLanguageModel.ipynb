{
 "cells": [
  {
   "cell_type": "code",
   "execution_count": 1,
   "id": "86c67495",
   "metadata": {},
   "outputs": [],
   "source": [
    "import numpy as np\n",
    "import pandas as pd\n",
    "from fastai.text.all import *\n",
    "import torch"
   ]
  },
  {
   "cell_type": "code",
   "execution_count": 5,
   "id": "f5dfc14d",
   "metadata": {},
   "outputs": [],
   "source": [
    "# Read the language model data\n",
    "fastai_language_model_data = torch.load(\"..\\lm_data.pkl\")"
   ]
  },
  {
   "cell_type": "code",
   "execution_count": 6,
   "id": "d705f517",
   "metadata": {},
   "outputs": [],
   "source": [
    "# Set the batch size to 16 (default is 64 but my machine does not have a lot of VRAM, sad life)\n",
    "fastai_language_model_data.bs = 16"
   ]
  },
  {
   "cell_type": "code",
   "execution_count": 7,
   "id": "f536f022",
   "metadata": {},
   "outputs": [
    {
     "data": {
      "text/html": [
       "<table border=\"1\" class=\"dataframe\">\n",
       "  <thead>\n",
       "    <tr style=\"text-align: right;\">\n",
       "      <th></th>\n",
       "      <th>text</th>\n",
       "      <th>text_</th>\n",
       "    </tr>\n",
       "  </thead>\n",
       "  <tbody>\n",
       "    <tr>\n",
       "      <th>0</th>\n",
       "      <td>xxbos xxmaj may xxmaj god xxup shield all truck drivers xxunk goods school staff providing breakfast lunch to kids grocery store employees stocking shelves and all first responders including my team and i during this time and the next few weeks xxbos xxmaj grocery store workers , truckers , warehouse workers , farmers , teachers , physicians , nurses , refuse collectors , delivery drivers , gas station attendants , pharmacy workers</td>\n",
       "      <td>xxmaj may xxmaj god xxup shield all truck drivers xxunk goods school staff providing breakfast lunch to kids grocery store employees stocking shelves and all first responders including my team and i during this time and the next few weeks xxbos xxmaj grocery store workers , truckers , warehouse workers , farmers , teachers , physicians , nurses , refuse collectors , delivery drivers , gas station attendants , pharmacy workers ,</td>\n",
       "    </tr>\n",
       "    <tr>\n",
       "      <th>1</th>\n",
       "      <td>xxmaj mask xxmaj scam xxunk xxmaj lab xxmaj scam 1 xxrep 3 0 xxmaj cr xxup covid xxmaj test xxmaj kit xxmaj scam 2 xxrep 3 0 xxmaj cr xxup xxunk xxmaj hand xxmaj sanitizer xxmaj scam 5 xxrep 3 0 xxmaj cr xxmaj corona xxmaj relief xxmaj scam 2 xxrep 4 0 xxmaj cr xxmaj xxunk xxmaj gandhi xxmaj virus xxmaj research xxmaj centre 3 xxrep 4 0 xxmaj cr xxbos</td>\n",
       "      <td>mask xxmaj scam xxunk xxmaj lab xxmaj scam 1 xxrep 3 0 xxmaj cr xxup covid xxmaj test xxmaj kit xxmaj scam 2 xxrep 3 0 xxmaj cr xxup xxunk xxmaj hand xxmaj sanitizer xxmaj scam 5 xxrep 3 0 xxmaj cr xxmaj corona xxmaj relief xxmaj scam 2 xxrep 4 0 xxmaj cr xxmaj xxunk xxmaj gandhi xxmaj virus xxmaj research xxmaj centre 3 xxrep 4 0 xxmaj cr xxbos xxmaj</td>\n",
       "    </tr>\n",
       "    <tr>\n",
       "      <th>2</th>\n",
       "      <td>xxmaj fry 's xxmaj food xxmaj and xxmaj drug https : / / t.co / xxunk xxbos xxmaj as part of the consumer # coronavirus response , we also saw early hoarding of important xxunk and medical supplies like hand sanitizer , sterilizing wipes , and ( most importantly ) surgical masks . xxmaj we should note that these hoarding behaviors were global . xxbos a plunge in prices has # oilandgas</td>\n",
       "      <td>fry 's xxmaj food xxmaj and xxmaj drug https : / / t.co / xxunk xxbos xxmaj as part of the consumer # coronavirus response , we also saw early hoarding of important xxunk and medical supplies like hand sanitizer , sterilizing wipes , and ( most importantly ) surgical masks . xxmaj we should note that these hoarding behaviors were global . xxbos a plunge in prices has # oilandgas xxunk</td>\n",
       "    </tr>\n",
       "  </tbody>\n",
       "</table>"
      ],
      "text/plain": [
       "<IPython.core.display.HTML object>"
      ]
     },
     "metadata": {},
     "output_type": "display_data"
    }
   ],
   "source": [
    "fastai_language_model_data.show_batch(max_n=3)"
   ]
  },
  {
   "cell_type": "code",
   "execution_count": 23,
   "id": "cdf82430",
   "metadata": {},
   "outputs": [],
   "source": [
    "# Premare the model\n",
    "lm_learner = language_model_learner(fastai_language_model_data,\n",
    "                                    AWD_LSTM,\n",
    "                                    metrics=accuracy,\n",
    "                                    drop_mult=0.2\n",
    "                                   )"
   ]
  },
  {
   "cell_type": "code",
   "execution_count": 24,
   "id": "88551c6f",
   "metadata": {},
   "outputs": [
    {
     "data": {
      "text/html": [
       "\n",
       "<style>\n",
       "    /* Turns off some styling */\n",
       "    progress {\n",
       "        /* gets rid of default border in Firefox and Opera. */\n",
       "        border: none;\n",
       "        /* Needs to be in here for Safari polyfill so background images work as expected. */\n",
       "        background-size: auto;\n",
       "    }\n",
       "    progress:not([value]), progress:not([value])::-webkit-progress-bar {\n",
       "        background: repeating-linear-gradient(45deg, #7e7e7e, #7e7e7e 10px, #5c5c5c 10px, #5c5c5c 20px);\n",
       "    }\n",
       "    .progress-bar-interrupted, .progress-bar-interrupted::-webkit-progress-bar {\n",
       "        background: #F44336;\n",
       "    }\n",
       "</style>\n"
      ],
      "text/plain": [
       "<IPython.core.display.HTML object>"
      ]
     },
     "metadata": {},
     "output_type": "display_data"
    },
    {
     "data": {
      "text/html": [],
      "text/plain": [
       "<IPython.core.display.HTML object>"
      ]
     },
     "metadata": {},
     "output_type": "display_data"
    },
    {
     "data": {
      "text/plain": [
       "SuggestedLRs(valley=0.005248074419796467)"
      ]
     },
     "execution_count": 24,
     "metadata": {},
     "output_type": "execute_result"
    },
    {
     "data": {
      "image/png": "[encoded data removed]",
      "text/plain": [
       "<Figure size 432x288 with 1 Axes>"
      ]
     },
     "metadata": {
      "needs_background": "light"
     },
     "output_type": "display_data"
    }
   ],
   "source": [
    "# Finding the best learning rate\n",
    "lm_learner.lr_find()"
   ]
  },
  {
   "cell_type": "code",
   "execution_count": 25,
   "id": "5b347be5",
   "metadata": {},
   "outputs": [
    {
     "data": {
      "text/html": [
       "\n",
       "<style>\n",
       "    /* Turns off some styling */\n",
       "    progress {\n",
       "        /* gets rid of default border in Firefox and Opera. */\n",
       "        border: none;\n",
       "        /* Needs to be in here for Safari polyfill so background images work as expected. */\n",
       "        background-size: auto;\n",
       "    }\n",
       "    progress:not([value]), progress:not([value])::-webkit-progress-bar {\n",
       "        background: repeating-linear-gradient(45deg, #7e7e7e, #7e7e7e 10px, #5c5c5c 10px, #5c5c5c 20px);\n",
       "    }\n",
       "    .progress-bar-interrupted, .progress-bar-interrupted::-webkit-progress-bar {\n",
       "        background: #F44336;\n",
       "    }\n",
       "</style>\n"
      ],
      "text/plain": [
       "<IPython.core.display.HTML object>"
      ]
     },
     "metadata": {},
     "output_type": "display_data"
    },
    {
     "data": {
      "text/html": [
       "<table border=\"1\" class=\"dataframe\">\n",
       "  <thead>\n",
       "    <tr style=\"text-align: left;\">\n",
       "      <th>epoch</th>\n",
       "      <th>train_loss</th>\n",
       "      <th>valid_loss</th>\n",
       "      <th>accuracy</th>\n",
       "      <th>time</th>\n",
       "    </tr>\n",
       "  </thead>\n",
       "  <tbody>\n",
       "    <tr>\n",
       "      <td>0</td>\n",
       "      <td>4.182218</td>\n",
       "      <td>4.014528</td>\n",
       "      <td>0.319493</td>\n",
       "      <td>03:11</td>\n",
       "    </tr>\n",
       "    <tr>\n",
       "      <td>1</td>\n",
       "      <td>3.805860</td>\n",
       "      <td>3.787229</td>\n",
       "      <td>0.336370</td>\n",
       "      <td>03:18</td>\n",
       "    </tr>\n",
       "    <tr>\n",
       "      <td>2</td>\n",
       "      <td>3.623776</td>\n",
       "      <td>3.723620</td>\n",
       "      <td>0.342193</td>\n",
       "      <td>03:19</td>\n",
       "    </tr>\n",
       "    <tr>\n",
       "      <td>3</td>\n",
       "      <td>3.494596</td>\n",
       "      <td>3.703640</td>\n",
       "      <td>0.344256</td>\n",
       "      <td>03:15</td>\n",
       "    </tr>\n",
       "    <tr>\n",
       "      <td>4</td>\n",
       "      <td>3.428021</td>\n",
       "      <td>3.702196</td>\n",
       "      <td>0.344270</td>\n",
       "      <td>03:14</td>\n",
       "    </tr>\n",
       "  </tbody>\n",
       "</table>"
      ],
      "text/plain": [
       "<IPython.core.display.HTML object>"
      ]
     },
     "metadata": {},
     "output_type": "display_data"
    }
   ],
   "source": [
    "# Training just the last few layers for 5 epoch\n",
    "lm_learner.fit_one_cycle(5, 0.005)"
   ]
  },
  {
   "cell_type": "code",
   "execution_count": 26,
   "id": "c1198a07",
   "metadata": {},
   "outputs": [
    {
     "data": {
      "text/html": [
       "\n",
       "<style>\n",
       "    /* Turns off some styling */\n",
       "    progress {\n",
       "        /* gets rid of default border in Firefox and Opera. */\n",
       "        border: none;\n",
       "        /* Needs to be in here for Safari polyfill so background images work as expected. */\n",
       "        background-size: auto;\n",
       "    }\n",
       "    progress:not([value]), progress:not([value])::-webkit-progress-bar {\n",
       "        background: repeating-linear-gradient(45deg, #7e7e7e, #7e7e7e 10px, #5c5c5c 10px, #5c5c5c 20px);\n",
       "    }\n",
       "    .progress-bar-interrupted, .progress-bar-interrupted::-webkit-progress-bar {\n",
       "        background: #F44336;\n",
       "    }\n",
       "</style>\n"
      ],
      "text/plain": [
       "<IPython.core.display.HTML object>"
      ]
     },
     "metadata": {},
     "output_type": "display_data"
    },
    {
     "data": {
      "text/html": [],
      "text/plain": [
       "<IPython.core.display.HTML object>"
      ]
     },
     "metadata": {},
     "output_type": "display_data"
    },
    {
     "data": {
      "text/plain": [
       "SuggestedLRs(valley=0.0002290867705596611)"
      ]
     },
     "execution_count": 26,
     "metadata": {},
     "output_type": "execute_result"
    },
    {
     "data": {
      "image/png": "[encoded data removed]",
      "text/plain": [
       "<Figure size 432x288 with 1 Axes>"
      ]
     },
     "metadata": {
      "needs_background": "light"
     },
     "output_type": "display_data"
    }
   ],
   "source": [
    "# Unfreezing allthe weight parameters\n",
    "lm_learner.unfreeze()\n",
    "lm_learner.lr_find()"
   ]
  },
  {
   "cell_type": "code",
   "execution_count": 27,
   "id": "54171486",
   "metadata": {},
   "outputs": [
    {
     "data": {
      "text/html": [
       "\n",
       "<style>\n",
       "    /* Turns off some styling */\n",
       "    progress {\n",
       "        /* gets rid of default border in Firefox and Opera. */\n",
       "        border: none;\n",
       "        /* Needs to be in here for Safari polyfill so background images work as expected. */\n",
       "        background-size: auto;\n",
       "    }\n",
       "    progress:not([value]), progress:not([value])::-webkit-progress-bar {\n",
       "        background: repeating-linear-gradient(45deg, #7e7e7e, #7e7e7e 10px, #5c5c5c 10px, #5c5c5c 20px);\n",
       "    }\n",
       "    .progress-bar-interrupted, .progress-bar-interrupted::-webkit-progress-bar {\n",
       "        background: #F44336;\n",
       "    }\n",
       "</style>\n"
      ],
      "text/plain": [
       "<IPython.core.display.HTML object>"
      ]
     },
     "metadata": {},
     "output_type": "display_data"
    },
    {
     "data": {
      "text/html": [
       "<table border=\"1\" class=\"dataframe\">\n",
       "  <thead>\n",
       "    <tr style=\"text-align: left;\">\n",
       "      <th>epoch</th>\n",
       "      <th>train_loss</th>\n",
       "      <th>valid_loss</th>\n",
       "      <th>accuracy</th>\n",
       "      <th>time</th>\n",
       "    </tr>\n",
       "  </thead>\n",
       "  <tbody>\n",
       "    <tr>\n",
       "      <td>0</td>\n",
       "      <td>3.455807</td>\n",
       "      <td>3.694270</td>\n",
       "      <td>0.343904</td>\n",
       "      <td>03:55</td>\n",
       "    </tr>\n",
       "    <tr>\n",
       "      <td>1</td>\n",
       "      <td>3.409417</td>\n",
       "      <td>3.627638</td>\n",
       "      <td>0.353409</td>\n",
       "      <td>03:57</td>\n",
       "    </tr>\n",
       "    <tr>\n",
       "      <td>2</td>\n",
       "      <td>3.153597</td>\n",
       "      <td>3.618243</td>\n",
       "      <td>0.358660</td>\n",
       "      <td>03:57</td>\n",
       "    </tr>\n",
       "    <tr>\n",
       "      <td>3</td>\n",
       "      <td>2.907474</td>\n",
       "      <td>3.643191</td>\n",
       "      <td>0.361426</td>\n",
       "      <td>03:58</td>\n",
       "    </tr>\n",
       "    <tr>\n",
       "      <td>4</td>\n",
       "      <td>2.741314</td>\n",
       "      <td>3.674730</td>\n",
       "      <td>0.360460</td>\n",
       "      <td>03:57</td>\n",
       "    </tr>\n",
       "  </tbody>\n",
       "</table>"
      ],
      "text/plain": [
       "<IPython.core.display.HTML object>"
      ]
     },
     "metadata": {},
     "output_type": "display_data"
    }
   ],
   "source": [
    "# Training the whole model for 5 epochs\n",
    "m_learner.fit_one_cycle(5, slice(0.00001, 0.01))"
   ]
  },
  {
   "cell_type": "code",
   "execution_count": 28,
   "id": "79aca9fb",
   "metadata": {},
   "outputs": [
    {
     "data": {
      "text/html": [
       "\n",
       "<style>\n",
       "    /* Turns off some styling */\n",
       "    progress {\n",
       "        /* gets rid of default border in Firefox and Opera. */\n",
       "        border: none;\n",
       "        /* Needs to be in here for Safari polyfill so background images work as expected. */\n",
       "        background-size: auto;\n",
       "    }\n",
       "    progress:not([value]), progress:not([value])::-webkit-progress-bar {\n",
       "        background: repeating-linear-gradient(45deg, #7e7e7e, #7e7e7e 10px, #5c5c5c 10px, #5c5c5c 20px);\n",
       "    }\n",
       "    .progress-bar-interrupted, .progress-bar-interrupted::-webkit-progress-bar {\n",
       "        background: #F44336;\n",
       "    }\n",
       "</style>\n"
      ],
      "text/plain": [
       "<IPython.core.display.HTML object>"
      ]
     },
     "metadata": {},
     "output_type": "display_data"
    },
    {
     "data": {
      "text/html": [],
      "text/plain": [
       "<IPython.core.display.HTML object>"
      ]
     },
     "metadata": {},
     "output_type": "display_data"
    },
    {
     "data": {
      "text/html": [
       "<table border=\"1\" class=\"dataframe\">\n",
       "  <thead>\n",
       "    <tr style=\"text-align: right;\">\n",
       "      <th></th>\n",
       "      <th>input</th>\n",
       "      <th>target</th>\n",
       "      <th>pred</th>\n",
       "    </tr>\n",
       "  </thead>\n",
       "  <tbody>\n",
       "    <tr>\n",
       "      <th>0</th>\n",
       "      <td>xxbos xxmaj between 60 to 70 of the u s economy is driven by consumer spending xxbos xxmaj take a look on the # trading potential of # euets - covered industries affected by # coronavirus . xxmaj do they collapse , do they shift operations ? xxmaj read why the price should bounce soon : https : / / t.co / xxunk \\r\\r\\n▁ # xxup euets # xxunk # xxup co2</td>\n",
       "      <td>xxmaj between 60 to 70 of the u s economy is driven by consumer spending xxbos xxmaj take a look on the # trading potential of # euets - covered industries affected by # coronavirus . xxmaj do they collapse , do they shift operations ? xxmaj read why the price should bounce soon : https : / / t.co / xxunk \\r\\r\\n▁ # xxup euets # xxunk # xxup co2 #</td>\n",
       "      <td>xxmaj the xxmaj + 70 % the xxup s population is spending by consumer spending and xxmaj the a look at the # coronavirus potential of # xxup xxunk xxunk xxunk , by # coronavirus . xxmaj read n't see in they they know operations , xxmaj read more ? # of be back . https : / / t.co / xxunk xxbos # xxunk euets # xxunk # xxunk euets #</td>\n",
       "    </tr>\n",
       "    <tr>\n",
       "      <th>1</th>\n",
       "      <td>e xxmaj learning in the schools xxmaj xxunk to encourage social distancing xxmaj enough xxmaj food stock xxbos xxmaj don t forget to wash your xxmaj hans xxbos xxmaj fruits being sold a high prices | xxmaj seller caught # xxmaj coronavirus # xxup covid-19 # … https : / / t.co / xxunk via @youtube xxbos xxmaj leaders : xxmaj we do n't want to spread # coronavirus so you can</td>\n",
       "      <td>xxmaj learning in the schools xxmaj xxunk to encourage social distancing xxmaj enough xxmaj food stock xxbos xxmaj don t forget to wash your xxmaj hans xxbos xxmaj fruits being sold a high prices | xxmaj seller caught # xxmaj coronavirus # xxup covid-19 # … https : / / t.co / xxunk via @youtube xxbos xxmaj leaders : xxmaj we do n't want to spread # coronavirus so you can only</td>\n",
       "      <td>- xxunk xxmaj xxmaj xxmaj and xxunk and go people distancing and in to to xxmaj is xxmaj the t panic to stock your hands don sanitizer xxmaj the and sold at little price in xxmaj xxunk xxmaj in xxmaj xxunk \\r\\r\\n xxmaj covid19 # xxmaj \\r\\r\\n : / / t.co / xxunk xxbos xxunk xxbos xxmaj the of xxmaj do are n't need to hear the coronavirus but we can get</td>\n",
       "    </tr>\n",
       "    <tr>\n",
       "      <th>2</th>\n",
       "      <td>xxunk # 2020 # drawing # comedy # satire # breakingnews # panicbuyinguk https : / / t.co / xxunk xxbos xxmaj who is the person who described senior citizens as \" 80 year old teenagers \" because xxmaj i 'm pretty sure xxmaj i 'm going to catch my 90 - year - old xxunk xxunk out the house at 7 a.m. to go to the grocery store … \\r\\r\\n\\r\\r\\n▁ #</td>\n",
       "      <td># 2020 # drawing # comedy # satire # breakingnews # panicbuyinguk https : / / t.co / xxunk xxbos xxmaj who is the person who described senior citizens as \" 80 year old teenagers \" because xxmaj i 'm pretty sure xxmaj i 'm going to catch my 90 - year - old xxunk xxunk out the house at 7 a.m. to go to the grocery store … \\r\\r\\n\\r\\r\\n▁ # quarantine</td>\n",
       "      <td>xxunk xxunk # xxunk # xxunk # xxunk # comic # news # : / / t.co / xxunk xxbos xxmaj the knew the first who is the panic to being xxunk % old \" with with of iâm 'm a sure they i 'm not to be them # year year old old daughter who xxmaj of # with the am and 6 to the grocery store . # # coronavirus</td>\n",
       "    </tr>\n",
       "    <tr>\n",
       "      <th>3</th>\n",
       "      <td>19 is pushing us to the fourth industrial revolution by force xxmaj flexible working xxmaj online shopping xxmaj online festival s xxmaj less human contact xxmaj automation xxbos xxmaj if i think i will be contacted about # shielding do i go to work tomorrow ? i work in a supermarket , close proximity to many people for 9 hours # xxunk # xxup covid?19 # coronavirus xxbos xxmaj love to the</td>\n",
       "      <td>is pushing us to the fourth industrial revolution by force xxmaj flexible working xxmaj online shopping xxmaj online festival s xxmaj less human contact xxmaj automation xxbos xxmaj if i think i will be contacted about # shielding do i go to work tomorrow ? i work in a supermarket , close proximity to many people for 9 hours # xxunk # xxup covid?19 # coronavirus xxbos xxmaj love to the freelancers</td>\n",
       "      <td>xxbos a the to close brink level level in the it xxunk xxmaj in customers xxmaj xxmaj more xxmaj xxbos xxbos online xxmaj lives xxbos xxunk is xxmaj the you have the would be able by the coronavirus tonight you have to the and and xxmaj am at a supermarket and and to to others others , a am , coronavirus # coronavirus covid2019 # coronavirus xxbos xxmaj the this see grocery</td>\n",
       "    </tr>\n",
       "    <tr>\n",
       "      <th>4</th>\n",
       "      <td>sunshine . xxmaj it is probably a very unlikely place to catch this # coronavirus . xxmaj we arenât closing the stores all the thousands of people in a grocery store each day will spread more germs than crowds at th xxbos xxmaj get it b4 xxmaj amazon xxup bans them too ! ? xxmaj germ - x xxmaj advanced xxmaj aloe xxmaj hand xxmaj sanitizer xxunk fl oz ? from $</td>\n",
       "      <td>. xxmaj it is probably a very unlikely place to catch this # coronavirus . xxmaj we arenât closing the stores all the thousands of people in a grocery store each day will spread more germs than crowds at th xxbos xxmaj get it b4 xxmaj amazon xxup bans them too ! ? xxmaj germ - x xxmaj advanced xxmaj aloe xxmaj hand xxmaj sanitizer xxunk fl oz ? from $ xxunk</td>\n",
       "      <td>xxmaj xxmaj the is a the xxunk good sunshine to see the virus coronavirus thing xxmaj it are even our retail until over time . people are need panic store . day . be the than and we . the xxbos xxmaj the your to you covid-19 is bans it on ! xxmaj ? you xxmaj xxunk xxmaj germ xxmaj hand xxmaj vera xxmaj sanitizer xxmaj xxmaj oz xxmaj # # xxunk</td>\n",
       "    </tr>\n",
       "    <tr>\n",
       "      <th>5</th>\n",
       "      <td>swiss xxmaj xxunk … https : / / t.co / xxunk xxbos xxunk https : / / t.co / xxunk says \" businesses involved in the supply , delivery , distribution and sale of food , beverage and other key consumer goods ( but not takeaway shops ) \" so sounds like it ? xxbos xxmaj xxunk believes their data specifically on skin temperature heart rate heart rate xxunk and respiratory rate</td>\n",
       "      <td>xxmaj xxunk … https : / / t.co / xxunk xxbos xxunk https : / / t.co / xxunk says \" businesses involved in the supply , delivery , distribution and sale of food , beverage and other key consumer goods ( but not takeaway shops ) \" so sounds like it ? xxbos xxmaj xxunk believes their data specifically on skin temperature heart rate heart rate xxunk and respiratory rate will</td>\n",
       "      <td>xxunk swiss xxmaj . : / / t.co / xxunk xxbos xxmaj xxmaj : / / t.co / xxunk xxbos xxmaj the are in the industry chain delivery , distribution , distribution of food are medicine , other products items goods are including not the shops ) are . that a a 's xxbos xxmaj the xxmaj that # is provides the and is xxunk is failure xxunk is xxunk failure xxunk</td>\n",
       "    </tr>\n",
       "    <tr>\n",
       "      <th>6</th>\n",
       "      <td>xxunk , xxunk , xxunk , xxunk , xxunk and many more are now making hand sanitizer and offering it for free to those who need it : \\r\\r\\n https : / / t.co / xxunk \\r\\r\\n\\r\\r\\n▁ # americanbusiness # xxmaj coronavirus # smallbiz xxunk ? xxbos xxmaj montana xxmaj farmers having a little fun . https : / / t.co / xxunk xxbos xxmaj support your local liquor store during these</td>\n",
       "      <td>, xxunk , xxunk , xxunk , xxunk and many more are now making hand sanitizer and offering it for free to those who need it : \\r\\r\\n https : / / t.co / xxunk \\r\\r\\n\\r\\r\\n▁ # americanbusiness # xxmaj coronavirus # smallbiz xxunk ? xxbos xxmaj montana xxmaj farmers having a little fun . https : / / t.co / xxunk xxbos xxmaj support your local liquor store during these times</td>\n",
       "      <td>xxunk xxunk , xxunk , xxunk , xxunk , xxunk others . now using their sanitizer . xxunk free to free . those who are it . https https : / / t.co / xxunk xxbos # xxunk # xxmaj coronavirus xxbos xxmaj xxbos xxbos xxbos xxmaj the xxmaj xxunk xxmaj a great bit humor xxmaj : / / t.co / xxunk xxbos xxmaj the local local businesses store by the times</td>\n",
       "    </tr>\n",
       "    <tr>\n",
       "      <th>7</th>\n",
       "      <td>kept back for @nhsuk workers in this crisis ? xxmaj can we donate to some sort of fund ? xxmaj dig deep , # stockpilers ? xxbos xxmaj my partner works in a retail store in the city . xxmaj the company , one of the richest in the world , has decided they 'll close at 5 / 6 every day instead of the usual times , because it 's common</td>\n",
       "      <td>back for @nhsuk workers in this crisis ? xxmaj can we donate to some sort of fund ? xxmaj dig deep , # stockpilers ? xxbos xxmaj my partner works in a retail store in the city . xxmaj the company , one of the richest in the world , has decided they 'll close at 5 / 6 every day instead of the usual times , because it 's common knowledge</td>\n",
       "      <td>the from the staff like the time . xxmaj the we help to the of of community ? xxmaj the xxmaj cleaning deep xxunk # ? xxmaj the xxmaj xxmaj at a supermarket store and xxmaj xxmaj of xxmaj she manager has xxmaj of the largest in the country , has been to are hire their least xxrep 11 . day . of letting usual usual . and they 's a people</td>\n",
       "    </tr>\n",
       "    <tr>\n",
       "      <th>8</th>\n",
       "      <td>is lockdown now … . i want my family safe and off course i want to stock food and xxunk xxbos xxmaj heard the rumors about expensive , private xxup covid-19 tests or special treatment for xxup nba stars ? xxmaj the xxmaj xxunk xxmaj world received answers to the latest questions and concerns about testing for the coronavirus . https : / / t.co / xxunk xxbos xxmaj useful information about</td>\n",
       "      <td>lockdown now … . i want my family safe and off course i want to stock food and xxunk xxbos xxmaj heard the rumors about expensive , private xxup covid-19 tests or special treatment for xxup nba stars ? xxmaj the xxmaj xxunk xxmaj world received answers to the latest questions and concerns about testing for the coronavirus . https : / / t.co / xxunk xxbos xxmaj useful information about supermarket</td>\n",
       "      <td>a in . xxmaj xxmaj am to wife to and stay with . will to go up and stock my xxmaj the that news on the prices expensive equity covid-19 testing , vaccines testing for xxup covid-19 players xxmaj xxmaj this xxmaj xxunk xxmaj county xxmaj reports about answer questions questions : answers about the . xxup coronavirus . https : / / t.co / xxunk xxbos xxmaj the tips from #</td>\n",
       "    </tr>\n",
       "  </tbody>\n",
       "</table>"
      ],
      "text/plain": [
       "<IPython.core.display.HTML object>"
      ]
     },
     "metadata": {},
     "output_type": "display_data"
    }
   ],
   "source": [
    "lm_learner.show_results()"
   ]
  },
  {
   "cell_type": "code",
   "execution_count": 29,
   "id": "85f9eb3c",
   "metadata": {},
   "outputs": [],
   "source": [
    "lm_learner.export(r\"E:\\Work\\Data_Science\\Projects\\Text_Classification_FastAI_V2\\model\\language_model\")"
   ]
  },
  {
   "cell_type": "code",
   "execution_count": null,
   "id": "ed2d3bd7",
   "metadata": {},
   "outputs": [],
   "source": [
    "lm_learner.save_encoder(r\"\")"
   ]
  }
 ],
 "metadata": {
  "kernelspec": {
   "display_name": "Python 3 (ipykernel)",
   "language": "python",
   "name": "python3"
  },
  "language_info": {
   "codemirror_mode": {
    "name": "ipython",
    "version": 3
   },
   "file_extension": ".py",
   "mimetype": "text/x-python",
   "name": "python",
   "nbconvert_exporter": "python",
   "pygments_lexer": "ipython3",
   "version": "3.8.13"
  }
 },
 "nbformat": 4,
 "nbformat_minor": 5
}
