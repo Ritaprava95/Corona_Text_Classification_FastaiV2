{
 "cells": [
  {
   "cell_type": "code",
   "execution_count": 1,
   "id": "86c67495",
   "metadata": {},
   "outputs": [],
   "source": [
    "import numpy as np\n",
    "import pandas as pd\n",
    "from fastai.text.all import *\n",
    "import torch"
   ]
  },
  {
   "cell_type": "code",
   "execution_count": 5,
   "id": "f5dfc14d",
   "metadata": {},
   "outputs": [],
   "source": [
    "fastai_language_model_data = torch.load(\"..\\lm_data.pkl\")"
   ]
  },
  {
   "cell_type": "code",
   "execution_count": 6,
   "id": "d705f517",
   "metadata": {},
   "outputs": [],
   "source": [
    "fastai_language_model_data.bs = 16"
   ]
  },
  {
   "cell_type": "code",
   "execution_count": 7,
   "id": "f536f022",
   "metadata": {},
   "outputs": [
    {
     "data": {
      "text/html": [
       "<table border=\"1\" class=\"dataframe\">\n",
       "  <thead>\n",
       "    <tr style=\"text-align: right;\">\n",
       "      <th></th>\n",
       "      <th>text</th>\n",
       "      <th>text_</th>\n",
       "    </tr>\n",
       "  </thead>\n",
       "  <tbody>\n",
       "    <tr>\n",
       "      <th>0</th>\n",
       "      <td>xxbos xxmaj may xxmaj god xxup shield all truck drivers xxunk goods school staff providing breakfast lunch to kids grocery store employees stocking shelves and all first responders including my team and i during this time and the next few weeks xxbos xxmaj grocery store workers , truckers , warehouse workers , farmers , teachers , physicians , nurses , refuse collectors , delivery drivers , gas station attendants , pharmacy workers</td>\n",
       "      <td>xxmaj may xxmaj god xxup shield all truck drivers xxunk goods school staff providing breakfast lunch to kids grocery store employees stocking shelves and all first responders including my team and i during this time and the next few weeks xxbos xxmaj grocery store workers , truckers , warehouse workers , farmers , teachers , physicians , nurses , refuse collectors , delivery drivers , gas station attendants , pharmacy workers ,</td>\n",
       "    </tr>\n",
       "    <tr>\n",
       "      <th>1</th>\n",
       "      <td>xxmaj mask xxmaj scam xxunk xxmaj lab xxmaj scam 1 xxrep 3 0 xxmaj cr xxup covid xxmaj test xxmaj kit xxmaj scam 2 xxrep 3 0 xxmaj cr xxup xxunk xxmaj hand xxmaj sanitizer xxmaj scam 5 xxrep 3 0 xxmaj cr xxmaj corona xxmaj relief xxmaj scam 2 xxrep 4 0 xxmaj cr xxmaj xxunk xxmaj gandhi xxmaj virus xxmaj research xxmaj centre 3 xxrep 4 0 xxmaj cr xxbos</td>\n",
       "      <td>mask xxmaj scam xxunk xxmaj lab xxmaj scam 1 xxrep 3 0 xxmaj cr xxup covid xxmaj test xxmaj kit xxmaj scam 2 xxrep 3 0 xxmaj cr xxup xxunk xxmaj hand xxmaj sanitizer xxmaj scam 5 xxrep 3 0 xxmaj cr xxmaj corona xxmaj relief xxmaj scam 2 xxrep 4 0 xxmaj cr xxmaj xxunk xxmaj gandhi xxmaj virus xxmaj research xxmaj centre 3 xxrep 4 0 xxmaj cr xxbos xxmaj</td>\n",
       "    </tr>\n",
       "    <tr>\n",
       "      <th>2</th>\n",
       "      <td>xxmaj fry 's xxmaj food xxmaj and xxmaj drug https : / / t.co / xxunk xxbos xxmaj as part of the consumer # coronavirus response , we also saw early hoarding of important xxunk and medical supplies like hand sanitizer , sterilizing wipes , and ( most importantly ) surgical masks . xxmaj we should note that these hoarding behaviors were global . xxbos a plunge in prices has # oilandgas</td>\n",
       "      <td>fry 's xxmaj food xxmaj and xxmaj drug https : / / t.co / xxunk xxbos xxmaj as part of the consumer # coronavirus response , we also saw early hoarding of important xxunk and medical supplies like hand sanitizer , sterilizing wipes , and ( most importantly ) surgical masks . xxmaj we should note that these hoarding behaviors were global . xxbos a plunge in prices has # oilandgas xxunk</td>\n",
       "    </tr>\n",
       "  </tbody>\n",
       "</table>"
      ],
      "text/plain": [
       "<IPython.core.display.HTML object>"
      ]
     },
     "metadata": {},
     "output_type": "display_data"
    }
   ],
   "source": [
    "fastai_language_model_data.show_batch(max_n=3)"
   ]
  },
  {
   "cell_type": "code",
   "execution_count": null,
   "id": "cdf82430",
   "metadata": {},
   "outputs": [],
   "source": []
  }
 ],
 "metadata": {
  "kernelspec": {
   "display_name": "Python 3 (ipykernel)",
   "language": "python",
   "name": "python3"
  },
  "language_info": {
   "codemirror_mode": {
    "name": "ipython",
    "version": 3
   },
   "file_extension": ".py",
   "mimetype": "text/x-python",
   "name": "python",
   "nbconvert_exporter": "python",
   "pygments_lexer": "ipython3",
   "version": "3.8.13"
  }
 },
 "nbformat": 4,
 "nbformat_minor": 5
}
